{
 "cells": [
  {
   "cell_type": "code",
   "execution_count": 140,
   "id": "8ba9ac3e-f50c-4b4b-934c-9cbf895a1f17",
   "metadata": {},
   "outputs": [],
   "source": [
    "import pandas as pd\n",
    "import sqlite3\n",
    "import zipfile\n",
    "import matplotlib.pyplot as plt\n",
    "import seaborn as sns"
   ]
  },
  {
   "cell_type": "code",
   "execution_count": 141,
   "id": "5d15cd4c-a998-4a22-b339-2190f310debd",
   "metadata": {},
   "outputs": [
    {
     "name": "stdout",
     "output_type": "stream",
     "text": [
      "C:\\Users\\Mwende\\OneDrive\\Desktop\\PROJECTS\\dsc-phase-1-project-v2-4\n",
      "['.canvas', '.git', '.gitignore', '.ipynb_checkpoints', 'awesome.gif', 'CONTRIBUTING.md', 'im.db', 'index.ipynb', 'LICENSE.md', 'movie_data_erd.jpeg', 'README.md', 'student.ipynb', 'Untitled.ipynb', 'unzippedData', 'zippedData']\n"
     ]
    }
   ],
   "source": [
    "import os\n",
    "\n",
    "# Print the current working directory\n",
    "print(os.getcwd())\n",
    "\n",
    "# List the files in the current working directory\n",
    "print(os.listdir('.'))\n"
   ]
  },
  {
   "cell_type": "code",
   "execution_count": 142,
   "id": "da6541e8-54f5-480a-b9b3-4a03931ed9bf",
   "metadata": {},
   "outputs": [
    {
     "name": "stdout",
     "output_type": "stream",
     "text": [
      "\n",
      "Files in 'zippedData' directory:\n",
      "['.ipynb_checkpoints', 'bom.movie_gross.csv.gz', 'im.db', 'im.db.zip', 'rt.movie_info.tsv.gz', 'rt.reviews.tsv.gz', 'tmdb.movies.csv.gz', 'tn.movie_budgets.csv.gz']\n"
     ]
    }
   ],
   "source": [
    "# Define the path to the 'zippedData' directory\n",
    "zipped_data_path = os.path.join(os.getcwd(), 'zippedData')\n",
    "\n",
    "# List the files in the 'zippedData' directory\n",
    "zipped_data_files = os.listdir(zipped_data_path)\n",
    "print(\"\\nFiles in 'zippedData' directory:\")\n",
    "print(zipped_data_files)\n",
    "\n",
    "# Define a function to load and display the content of a CSV file\n",
    "def load_csv_file(filename):\n",
    "    file_path = os.path.join(zipped_data_path, filename)\n",
    "    data = pd.read_csv(file_path)\n",
    "    print(f\"\\nContent of '{filename}':\")\n",
    "    print(data.head())  # Display the first few rows of the file\n",
    "\n",
    "# Load and display content of each CSV file in the 'zippedData' directory\n",
    "for file in zipped_data_files:\n",
    "    if file.endswith('.csv'):\n",
    "        load_csv_file(file)"
   ]
  },
  {
   "cell_type": "code",
   "execution_count": 143,
   "id": "741722ac-0b0b-4bc6-9f99-a0facb370241",
   "metadata": {},
   "outputs": [],
   "source": [
    "import numpy as np\n",
    "import pandas as pd\n",
    "import os\n",
    "import glob\n",
    "import gzip"
   ]
  },
  {
   "cell_type": "code",
   "execution_count": 144,
   "id": "e2f43fbd-936d-4e86-a8df-a54cd2d8828b",
   "metadata": {},
   "outputs": [
    {
     "name": "stderr",
     "output_type": "stream",
     "text": [
      "'gunzip' is not recognized as an internal or external command,\n",
      "operable program or batch file.\n"
     ]
    }
   ],
   "source": [
    "# prompt: gunzip all .gz files in the current directory\n",
    "!gunzip *.gz"
   ]
  },
  {
   "cell_type": "code",
   "execution_count": 145,
   "id": "612d2d51-f812-4dce-82dc-a7aeacc1b212",
   "metadata": {},
   "outputs": [
    {
     "data": {
      "text/plain": [
       "([], [])"
      ]
     },
     "execution_count": 145,
     "metadata": {},
     "output_type": "execute_result"
    }
   ],
   "source": [
    "path = os.getcwd()\n",
    "csv_files = glob.glob(os.path.join(path, \"*.csv\"))\n",
    "tsv_files = glob.glob(os.path.join(path, \"*.tsv\"))\n",
    "csv_files, tsv_files"
   ]
  },
  {
   "cell_type": "code",
   "execution_count": 146,
   "id": "5b498040-8cad-42d6-97b0-300f6a2d7f8b",
   "metadata": {},
   "outputs": [],
   "source": [
    "def read_and_concat_files(csvs, tsvs):\n",
    "  csv_dfs = []\n",
    "  tsv_dfs = []\n",
    "  for f in csvs:\n",
    "    df = pd.read_csv(f)\n",
    "    csv_dfs.append(df)\n",
    "  for t in tsvs:\n",
    "    tsv_df = pd.read_csv(t, sep=\"\\t\", encoding='windows-1252')\n",
    "    tsv_dfs.append(tsv_df)\n",
    "  #df = pd.concat(csv_dfs + tsv_dfs)\n",
    "  return csv_dfs.tsv_dfs"
   ]
  },
  {
   "cell_type": "code",
   "execution_count": 147,
   "id": "b290e7ee-c115-456b-8ecb-00bdf2797203",
   "metadata": {},
   "outputs": [
    {
     "ename": "AttributeError",
     "evalue": "'list' object has no attribute 'tsv_dfs'",
     "output_type": "error",
     "traceback": [
      "\u001b[1;31m---------------------------------------------------------------------------\u001b[0m",
      "\u001b[1;31mAttributeError\u001b[0m                            Traceback (most recent call last)",
      "Cell \u001b[1;32mIn[147], line 1\u001b[0m\n\u001b[1;32m----> 1\u001b[0m csvs, tsvs \u001b[38;5;241m=\u001b[39m read_and_concat_files(csv_files, tsv_files)\n\u001b[0;32m      2\u001b[0m \u001b[38;5;28mprint\u001b[39m(\u001b[38;5;124m\"\u001b[39m\u001b[38;5;124mDfs in csvs: \u001b[39m\u001b[38;5;124m\"\u001b[39m \u001b[38;5;241m+\u001b[39m \u001b[38;5;28mstr\u001b[39m(\u001b[38;5;28mlen\u001b[39m(csvs)))\n\u001b[0;32m      3\u001b[0m \u001b[38;5;28mprint\u001b[39m(\u001b[38;5;124m\"\u001b[39m\u001b[38;5;124mDfs in tsvs: \u001b[39m\u001b[38;5;124m\"\u001b[39m \u001b[38;5;241m+\u001b[39m \u001b[38;5;28mstr\u001b[39m(\u001b[38;5;28mlen\u001b[39m(tsvs)))\n",
      "Cell \u001b[1;32mIn[146], line 11\u001b[0m, in \u001b[0;36mread_and_concat_files\u001b[1;34m(csvs, tsvs)\u001b[0m\n\u001b[0;32m      9\u001b[0m   tsv_dfs\u001b[38;5;241m.\u001b[39mappend(tsv_df)\n\u001b[0;32m     10\u001b[0m \u001b[38;5;66;03m#df = pd.concat(csv_dfs + tsv_dfs)\u001b[39;00m\n\u001b[1;32m---> 11\u001b[0m \u001b[38;5;28;01mreturn\u001b[39;00m csv_dfs\u001b[38;5;241m.\u001b[39mtsv_dfs\n",
      "\u001b[1;31mAttributeError\u001b[0m: 'list' object has no attribute 'tsv_dfs'"
     ]
    }
   ],
   "source": [
    "csvs, tsvs = read_and_concat_files(csv_files, tsv_files)\n",
    "print(\"Dfs in csvs: \" + str(len(csvs)))\n",
    "print(\"Dfs in tsvs: \" + str(len(tsvs)))\n",
    "print(\"Sample from first DF\")\n",
    "csvs[0].head()"
   ]
  },
  {
   "cell_type": "code",
   "execution_count": 148,
   "id": "1ea56f58-9d1a-4f75-816b-bbec4af4ea20",
   "metadata": {},
   "outputs": [
    {
     "ename": "IndexError",
     "evalue": "list index out of range",
     "output_type": "error",
     "traceback": [
      "\u001b[1;31m---------------------------------------------------------------------------\u001b[0m",
      "\u001b[1;31mIndexError\u001b[0m                                Traceback (most recent call last)",
      "Cell \u001b[1;32mIn[148], line 1\u001b[0m\n\u001b[1;32m----> 1\u001b[0m tsvs[\u001b[38;5;241m0\u001b[39m]\u001b[38;5;241m.\u001b[39mhead()\n",
      "\u001b[1;31mIndexError\u001b[0m: list index out of range"
     ]
    }
   ],
   "source": [
    "tsvs[0].head()\n"
   ]
  },
  {
   "cell_type": "code",
   "execution_count": null,
   "id": "6cb87fb0-514a-4490-a432-5915961fe7f9",
   "metadata": {},
   "outputs": [],
   "source": [
    "# Extract the SQLite database if it is in a zip file\n",
    "if 'im.db.zip' in zipped_data_files:\n",
    "    with zipfile.ZipFile(os.path.join(zipped_data_path, 'im.db.zip'), 'r') as zip_ref:\n",
    "        zip_ref.extractall(zipped_data_path)\n"
   ]
  },
  {
   "cell_type": "code",
   "execution_count": null,
   "id": "127c2201-ef5b-4608-89c0-9d8336aa7be6",
   "metadata": {
    "scrolled": true
   },
   "outputs": [],
   "source": [
    "import pandas as pd\n",
    "\n",
    "# Defining the function to load and display the content of in CSV file\n",
    "def load_csv_file(filename):\n",
    "    file_path = os.path.join(zipped_data_path, filename)\n",
    "    data = pd.read_csv(file_path, compression='gzip' if filename.endswith('.gz') else None)\n",
    "    print(f\"\\nContent of '{filename}':\")\n",
    "    print(data.head())\n",
    "    return data\n",
    "\n",
    "# Load and display content of each CSV file in the 'zippedData' directory\n",
    "dataframes = {}\n",
    "for file in zipped_data_files:\n",
    "    if file.endswith('.csv') or file.endswith('.gz'):\n",
    "        dataframes[file] = load_csv_file(file)\n"
   ]
  },
  {
   "cell_type": "code",
   "execution_count": null,
   "id": "610161b3-df30-4e15-ada4-4a3ab3348724",
   "metadata": {},
   "outputs": [],
   "source": [
    "S"
   ]
  },
  {
   "cell_type": "code",
   "execution_count": null,
   "id": "fc8527f5-29ce-4218-ab4a-df0708b97698",
   "metadata": {},
   "outputs": [],
   "source": []
  },
  {
   "cell_type": "code",
   "execution_count": null,
   "id": "aef1136f-ee73-43d6-b01c-bfa062e717e2",
   "metadata": {},
   "outputs": [],
   "source": []
  }
 ],
 "metadata": {
  "kernelspec": {
   "display_name": "Python 3 (ipykernel)",
   "language": "python",
   "name": "python3"
  },
  "language_info": {
   "codemirror_mode": {
    "name": "ipython",
    "version": 3
   },
   "file_extension": ".py",
   "mimetype": "text/x-python",
   "name": "python",
   "nbconvert_exporter": "python",
   "pygments_lexer": "ipython3",
   "version": "3.11.7"
  }
 },
 "nbformat": 4,
 "nbformat_minor": 5
}
